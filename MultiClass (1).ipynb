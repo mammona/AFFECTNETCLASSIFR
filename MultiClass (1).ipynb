{
  "cells": [
    {
      "cell_type": "code",
      "execution_count": null,
      "metadata": {
        "id": "sdSHsg-3BvnX"
      },
      "outputs": [],
      "source": [
        "!pip install GPUtil\n",
        "\n",
        "from GPUtil import showUtilization as gpu_usage\n",
        "gpu_usage()\n"
      ]
    },
    {
      "cell_type": "code",
      "execution_count": null,
      "metadata": {
        "id": "WF4Wb2GBkv1y"
      },
      "outputs": [],
      "source": [
        "import gc\n",
        "import torch\n",
        "gc.collect()\n",
        "torch.cuda.empty_cache()\n",
        "gpu_usage()\n",
        "\n"
      ]
    },
    {
      "cell_type": "code",
      "execution_count": 2,
      "metadata": {
        "id": "H_v_MuTPwqLw"
      },
      "outputs": [],
      "source": [
        "import tarfile\n",
        "my_tar = tarfile.open('/content/drive/MyDrive/CS893 Sp2022 A2 Dataset/train_and_val_set.tar')\n",
        "my_tar.extractall('./traindata') # specify which folder to extract to\n",
        "my_tar.close()\n",
        "my_tar = tarfile.open('/content/drive/MyDrive/CS893 Sp2022 A2 Dataset/test_set.tar')\n",
        "my_tar.extractall('./testdata') # specify which folder to extract to\n",
        "my_tar.close()\n",
        "\n"
      ]
    },
    {
      "cell_type": "code",
      "execution_count": 2,
      "metadata": {
        "id": "naEXxZZrxJV-"
      },
      "outputs": [],
      "source": [
        "import numpy as np\n",
        "import matplotlib.pyplot as plt\n",
        "import numpy as np\n",
        "import torch\n",
        "from torch import nn\n",
        "from torch import optim\n",
        "import torch.nn.functional as F\n",
        "import random\n",
        "import glob\n",
        "from torchvision import datasets, transforms, models\n",
        "import cv2\n",
        "from torchvision.transforms.functional import center_crop\n",
        "from torchvision.transforms.transforms import RandomVerticalFlip\n",
        "from PIL import Image\n",
        "from torch.utils.data import Dataset\n",
        "from functools import lru_cache\n",
        "from torch.utils.data import DataLoader\n",
        "from torch.optim import lr_scheduler\n",
        "from sklearn.metrics import classification_report, confusion_matrix\n",
        "from sklearn.metrics import accuracy_score\n",
        "from torch.utils.data import  WeightedRandomSampler\n",
        "from torch.cuda.amp import GradScaler, autocast\n",
        "from scipy.stats import pearsonr\n",
        "from sklearn.metrics import cohen_kappa_score,roc_curve,roc_auc_score,auc,precision_recall_curve\n",
        "from sklearn.metrics import f1_score\n",
        "\n"
      ]
    },
    {
      "cell_type": "code",
      "source": [
        "#DataSetPipeLine\n",
        "img_transforms = {\n",
        "    'train':\n",
        "    transforms.Compose([\n",
        "        transforms.Resize(size=(224,224)),\n",
        "        transforms.RandomHorizontalFlip(),\n",
        "        transforms.RandomVerticalFlip(),\n",
        "        transforms.CenterCrop(224),\n",
        "        transforms.ToTensor(),\n",
        "        transforms.Normalize([0.485, 0.456, 0.406],[0.229, 0.224, 0.225])\n",
        "        ]),\n",
        "\n",
        "    'valid':\n",
        "    transforms.Compose([\n",
        "        transforms.Resize(size=(224,224)),\n",
        "        transforms.RandomHorizontalFlip(),\n",
        "        transforms.RandomVerticalFlip(),\n",
        "        transforms.CenterCrop(224),\n",
        "        transforms.ToTensor(),\n",
        "        transforms.Normalize([0.485, 0.456, 0.406],[0.229, 0.224, 0.225])\n",
        "        ]),\n",
        "\n",
        "    'test':\n",
        "    transforms.Compose([\n",
        "        transforms.Resize(size=(224,224)),\n",
        "        transforms.ToTensor(),\n",
        "        #transforms.RandomVerticalFlip(),\n",
        "        transforms.Normalize([0.485, 0.456, 0.406],[0.229, 0.224, 0.225])\n",
        "        ]),\n",
        "     }\n",
        "class ImageDataSet(Dataset):\n",
        "    def __init__(self, image_paths,path, transform=False):\n",
        "        self.image_paths = image_paths\n",
        "        self.path=path\n",
        "        self.transform = transform\n",
        "    def __len__(self):\n",
        "        return len(self.image_paths)\n",
        "    @lru_cache()\n",
        "    def __getitem__(self, idx):\n",
        "        image_filepath = self.image_paths[idx]\n",
        "        img = Image.open(image_filepath)\n",
        "        rgbimg = Image.new(\"RGB\", img.size)\n",
        "        rgbimg.paste(img)\n",
        "        t=image_filepath.split('/')[-1]\n",
        "        t=t.split('.')[0]\n",
        "        label1=np.load(self.path+t+'_exp.npy')\n",
        "        label1=label1.astype(np.float32)\n",
        "        label1=torch.from_numpy(label1)\n",
        "        label1 = label1.type(torch.LongTensor)\n",
        "\n",
        "        label2=np.load(self.path+t+'_aro.npy') #arousal\n",
        "        label2=label2.astype(np.float32)\n",
        "        label2=torch.from_numpy(label2)\n",
        "        label2 = label2.type(torch.FloatTensor)\n",
        "\n",
        "        label3=np.load(self.path+t+'_val.npy') #Ind\n",
        "        label3=label3.astype(np.float32)\n",
        "        label3=torch.from_numpy(label3)\n",
        "        label2 = label2.type(torch.FloatTensor)\n",
        "\n",
        "\n",
        "\n",
        "\n",
        "        if self.transform is not None:\n",
        "            rgbimg = self.transform(rgbimg)\n",
        "        sample = {'image':rgbimg, 'labels': {'exp':label1, 'arousal':label2, 'val':label3}}\n",
        "   \n",
        "        return sample\n"
      ],
      "metadata": {
        "id": "hLKZGfvozWXs"
      },
      "execution_count": 3,
      "outputs": []
    },
    {
      "cell_type": "code",
      "source": [
        "class MultilabelClassifier(nn.Module):\n",
        "    def __init__(self, exp, arousal, val):\n",
        "        super().__init__()\n",
        "        self.resnet = models.resnet34(pretrained=True)\n",
        "        for param in self.resnet.parameters():\n",
        "                       param.requires_grad = False\n",
        "\n",
        "        \"\"\"\n",
        "        cntr=0\n",
        "        lt=5\n",
        "        for child in self.resnet.children():\n",
        "            cntr+=1\n",
        "\n",
        "            if cntr < lt:\n",
        "                for param in child.parameters():\n",
        "                       param.requires_grad = False\n",
        "        \"\"\"\n",
        "        self.model_wo_fc = nn.Sequential(*(list(self.resnet.children())[:-1]))\n",
        "        \n",
        "\n",
        "        self.exp = nn.Sequential(\n",
        "            nn.Dropout(p=0.2),\n",
        "            nn.Linear(in_features=512, out_features=exp)\n",
        "        )\n",
        "        self.arousal = nn.Sequential(\n",
        "            nn.Dropout(p=0.2),\n",
        "            nn.Linear(in_features=512, out_features=arousal)\n",
        "        )\n",
        "        self.val = nn.Sequential(\n",
        "            nn.Dropout(p=0.2),\n",
        "            nn.Linear(in_features=512, out_features=val)\n",
        "        )\n",
        "\n",
        "    def forward(self, x):\n",
        "        x = self.model_wo_fc(x)\n",
        "        x = torch.flatten(x, 1)\n",
        "\n",
        "        return {\n",
        "            'exp': self.exp(x),\n",
        "            'arousal': self.arousal(x),\n",
        "            'val': self.val(x)\n",
        "        }"
      ],
      "metadata": {
        "id": "aLHVSWRm0FZt"
      },
      "execution_count": 4,
      "outputs": []
    },
    {
      "cell_type": "code",
      "source": [
        "#LossFunction\n",
        "def criterion(loss,loss_func,outputs,pictures):\n",
        "  losses = 0\n",
        "  for i, key in enumerate(outputs):\n",
        "   if(key=='exp'):\n",
        "      losses += loss_func(outputs[key],pictures[0])#.cuda()) \n",
        "   if(key=='arousal'):\n",
        "      t= pictures[1].view(len(pictures[1]),1)\n",
        "      losses += loss(outputs[key],t)\n",
        "   if(key=='val'):\n",
        "      t= pictures[2].view(len(pictures[2]),1)\n",
        "      losses += loss(outputs[key],t) \n",
        "      \n",
        "\n",
        "  return losses\n",
        "#PredictionCalculation\n",
        "def calculate(preds,targets):\n",
        "  preds2, targets2 = [],[]\n",
        "\n",
        "  for i in preds:\n",
        "    for j in range(len(i)):\n",
        "      preds2.append(i.cpu().numpy()[j])\n",
        "  for i in targets:\n",
        "    for j in range(len(i)):\n",
        "      targets2.append(i.cpu().numpy()[j])\n",
        "\n",
        "  print(classification_report(targets2, preds2))\n",
        "  acc = accuracy_score(targets2, preds2)\n",
        "  return acc"
      ],
      "metadata": {
        "id": "ihO_lPXC0Koq"
      },
      "execution_count": 5,
      "outputs": []
    },
    {
      "cell_type": "code",
      "source": [
        "trainingloss = []\n",
        "validationloss = []\n",
        "taccuracy = []\n",
        "vaccuracy=[]\n",
        "def train(n_epochs, loaders, model, optimizer,scheduler, lossl2,loss_func, use_cuda, save_path):\n",
        "    scaler = GradScaler()\n",
        "    gradient_accumulations = 16\n",
        "\n",
        "    \"\"\"returns trained model\"\"\"\n",
        "    # initialize tracker for minimum validation loss\n",
        "    valid_loss_min = np.Inf \n",
        "    for epoch in range(1, n_epochs+1):\n",
        "        # initialize the variables to monitor training and validation loss\n",
        "        train_loss = 0.0\n",
        "        valid_loss = 0.0\n",
        "        tpreds =[]\n",
        "        ttargets = []\n",
        "        vpreds=[]\n",
        "        vtargets=[]\n",
        "  \n",
        "        ###################\n",
        "        # training the model #\n",
        "        ###################\n",
        "        model.train()\n",
        "        for batch_idx, (data) in enumerate(loaders['train']):\n",
        "            # move to GPU\n",
        "            if use_cuda:\n",
        "                img = data['image'].cuda()\n",
        "                exp = data['labels']['exp'].cuda()\n",
        "                aro = data['labels']['arousal'].cuda()\n",
        "                val = data['labels']['val'].cuda()\n",
        "            else:\n",
        "                img = data['image']\n",
        "                exp = data['labels']['exp']\n",
        "                aro = data['labels']['arousal']\n",
        "                val = data['labels']['val']\n",
        "          \n",
        "\n",
        "\n",
        "            with autocast():\n",
        "                output = model(img)\n",
        "                pred = output['exp'].max(1, keepdim=True)[1]\n",
        "                loss = criterion(lossl2,loss_func,output, [exp,aro,val])\n",
        "            scaler.scale(loss / gradient_accumulations).backward()\n",
        "            if (batch_idx + 1) % gradient_accumulations == 0:\n",
        "                scaler.step(optimizer)\n",
        "                scaler.update()\n",
        "                optimizer.zero_grad()\n",
        "\n",
        "          #  loss.backward()\n",
        "           # optimizer.step()\n",
        "            tpreds.append(pred)\n",
        "            ttargets.append(exp)\n",
        "       \n",
        "           \n",
        "            train_loss = train_loss + ((1 / (batch_idx + 1)) * (float(loss.data) - train_loss))\n",
        "\n",
        "        ######################    \n",
        "        # validating the model #\n",
        "        ######################\n",
        "        model.eval()\n",
        "        \n",
        "        for batch_idx, (data) in enumerate(loaders['valid']):\n",
        "            if use_cuda:\n",
        "                img = data['image'].cuda()\n",
        "                exp = data['labels']['exp'].cuda()\n",
        "                aro = data['labels']['arousal'].cuda()\n",
        "                val = data['labels']['val'].cuda()\n",
        "            else:\n",
        "                img = data['image']\n",
        "                exp = data['labels']['exp']\n",
        "                aro = data['labels']['arousal']\n",
        "                val = data['labels']['val']\n",
        "          \n",
        "            output = model(img)\n",
        "            pred = output['exp'].max(1, keepdim=True)[1]\n",
        "            loss = criterion(lossl2,loss_func,output, [exp,aro,val])\n",
        "            vpreds.append(pred)\n",
        "            vtargets.append(exp)\n",
        "            valid_loss = valid_loss + ((1 / (batch_idx + 1)) * (float(loss.data) - valid_loss))\n",
        "        \n",
        "        train_loss = train_loss/len(train_dataset)\n",
        "        valid_loss = valid_loss/len(valid_dataset)\n",
        "\n",
        "        trainingloss.append(train_loss)\n",
        "        validationloss.append(valid_loss)\n",
        "        \n",
        "        # printing training/validation statistics \n",
        "        print('Epoch: {} \\tTraining Loss: {:.6f} \\tValidation Loss: {:.6f} '.format(\n",
        "            epoch, \n",
        "            train_loss,\n",
        "            valid_loss\n",
        "                 ))\n",
        "        ta=calculate(tpreds,ttargets)\n",
        "        va=calculate(vpreds,vtargets)\n",
        "        taccuracy.append(ta)\n",
        "        vaccuracy.append(va)\n",
        "        scheduler.step()\n",
        "\n",
        "      \n",
        "        \n",
        "        \n",
        "        \n",
        "        ## saving the model if validation loss has decreased\n",
        "        if valid_loss < valid_loss_min:\n",
        "            torch.save(model.state_dict(), save_path)\n",
        "            \n",
        "            valid_loss_min = valid_loss\n",
        "           \n",
        "    # return trained model\n",
        "    return model"
      ],
      "metadata": {
        "id": "GyCkPE5O0jzl"
      },
      "execution_count": 6,
      "outputs": []
    },
    {
      "cell_type": "code",
      "source": [
        "#Counting number of classes\n",
        "def countall(adata):\n",
        "  count=[0,0,0,0,0,0,0,0]\n",
        "  for i in adata:\n",
        "     count[i['labels']['exp']]=count[i['labels']['exp']]+1\n",
        "  return count\n"
      ],
      "metadata": {
        "id": "KmNTOlFOz1d2"
      },
      "execution_count": 7,
      "outputs": []
    },
    {
      "cell_type": "code",
      "source": [
        "def tplot(taccuracy,vaccuracy,label):\n",
        "  x=list(range(0, len(taccuracy)))\n",
        "  # plotting the line 1 points\n",
        "  plt.plot(x,taccuracy, label = \"TrainLoss\")\n",
        "  plt.plot(x,vaccuracy, label = \"ValidLoss\")\n",
        "  \n",
        "  # naming the x axis\n",
        "  plt.xlabel('x - axis')\n",
        "  # naming the y axis\n",
        "  plt.ylabel('y - axis')\n",
        "  # giving a title to my graph\n",
        "  plt.title('Validation loss and Training Loss Graph')\n",
        "  \n",
        "  # show a legend on the plot\n",
        "  plt.legend()\n",
        "  \n",
        "  # function to show the plot\n",
        "  plt.show()\n"
      ],
      "metadata": {
        "id": "U_OG5IX81kZc"
      },
      "execution_count": 8,
      "outputs": []
    },
    {
      "cell_type": "code",
      "source": [
        "def test(loaders, model, lossl2,loss_func, use_cuda):\n",
        "    \n",
        "    # monitoring test loss and accuracy\n",
        "    test_loss = 0.\n",
        "    correct = 0.\n",
        "    total = 0.\n",
        "    preds = []\n",
        "    targets = []\n",
        "    apreds=[]\n",
        "    atargets=[]\n",
        "    vpreds=[]\n",
        "    vtargets=[]\n",
        "\n",
        "    model.eval()\n",
        "    model.zero_grad()\n",
        "    noItoShow = 0\n",
        "    nooItoShow=0\n",
        "    f, axarr = plt.subplots(2,2)\n",
        "    for batch_idx, (data) in enumerate(loaders['test']):\n",
        "           if use_cuda:\n",
        "                img = data['image'].cuda()\n",
        "                exp = data['labels']['exp'].cuda()\n",
        "                aro = data['labels']['arousal'].cuda()\n",
        "                val = data['labels']['val'].cuda()\n",
        "           else:\n",
        "                img = data['image']\n",
        "                exp = data['labels']['exp']\n",
        "                aro = data['labels']['arousal']\n",
        "                val = data['labels']['val']\n",
        "           output = model(img.detach())\n",
        "           pred = output['exp'].max(1, keepdim=True)[1]\n",
        "           arousal=output['arousal']\n",
        "           valence = output['val']\n",
        "           preds.append(pred.detach())\n",
        "           targets.append(exp.detach())\n",
        "           apreds.append(output['arousal'])\n",
        "           atargets.append(aro)\n",
        "           vpreds.append(output['val'])\n",
        "           vtargets.append(val)\n",
        "           if noItoShow<2:\n",
        "            if(pred[0]!=exp.detach()[0]):\n",
        "              rgbimg = img.detach().cpu().numpy()[0]\n",
        "             # plt.subplot(1, 2, noItoShow) # row 1, col 2 index 1\n",
        "              axarr[0,noItoShow].imshow(np.transpose(rgbimg, (1, 2, 0)))\n",
        "              axarr[0,noItoShow].set_title(\"MissClassified Pictures\")\n",
        "              print(pred[0])\n",
        "              print(exp.detach()[0])\n",
        "              noItoShow = noItoShow+1\n",
        "           if nooItoShow<2:\n",
        "            if(pred[0]==exp.detach()[0]):\n",
        "              rgbimg = img.detach().cpu().numpy()[0]\n",
        "              axarr[1,nooItoShow].imshow(np.transpose(rgbimg, (1, 2, 0)))\n",
        "              axarr[1,nooItoShow].set_title(\"Correctly Classified Pictures\")\n",
        "              print(pred[0])\n",
        "              print(exp.detach()[0])\n",
        "              nooItoShow = nooItoShow+1\n",
        "          \n",
        "    return preds, targets, apreds, atargets, vpreds, vtargets"
      ],
      "metadata": {
        "id": "fvUcEusN1qqX"
      },
      "execution_count": 9,
      "outputs": []
    },
    {
      "cell_type": "code",
      "source": [
        "#Evaluation Functions\n",
        "def calculateRMSE(ppreds,cpreds):\n",
        "  criterion = nn.MSELoss()\n",
        "  preds2, targets2 = [],[]\n",
        "  loss=0\n",
        "  for i,k in zip(ppreds,cpreds):\n",
        "      for j in range(len(i)):\n",
        "        preds2.append(i.detach().cpu().numpy()[j].item())\n",
        "        targets2.append(k.detach().cpu().numpy()[j].item())\n",
        "  loss=torch.sqrt(criterion(torch.Tensor(preds2),torch.Tensor(targets2)))\n",
        "  print(\"RMSE: %.3f\"% float(loss))\n",
        "  print(\"SAGR: %.3f\"% float(calculateSAGR(preds2, targets2)))\n",
        "  corr, _ = np.corrcoef(preds2, targets2)\n",
        "  print(\"Correlation:\", corr)\n",
        "  c=concordance_correlation_coefficient(targets2, preds2)\n",
        "  print(\"concordance_correlation_coefficient: %.3f\"% float(c))\n",
        "\n",
        "  return loss,corr,c\n",
        "def concordance_correlation_coefficient(y_true, y_pred):\n",
        "    \"\"\"Concordance correlation coefficient.\"\"\"\n",
        "    cor = np.corrcoef(y_true, y_pred)[0][1]\n",
        "    # Mean\n",
        "    mean_true = np.mean(y_true)\n",
        "    mean_pred = np.mean(y_pred)\n",
        "    # Variance\n",
        "    var_true = np.var(y_true)\n",
        "    var_pred = np.var(y_pred)\n",
        "    # Standard deviation\n",
        "    sd_true = np.std(y_true)\n",
        "    sd_pred = np.std(y_pred)\n",
        "    # Calculate CCC\n",
        "    numerator = 2 * cor * sd_true * sd_pred\n",
        "    denominator = var_true + var_pred + (mean_true - mean_pred)**2\n",
        "    return numerator / denominator\n",
        "def calculateSAGR(y_true, y_pred):\n",
        "  t1=np.sign(y_true)\n",
        "  t2= np.sign(y_pred)\n",
        "  count=0\n",
        "  for x,y in zip(t1,t2):\n",
        "    if(x==y):\n",
        "      count=count+1\n",
        "  return count/len(y_true)\n",
        "\n"
      ],
      "metadata": {
        "id": "6yuYbOfW2eat"
      },
      "execution_count": 10,
      "outputs": []
    },
    {
      "cell_type": "code",
      "source": [
        "def calc(preds,targets):\n",
        "  preds2, targets2 = [],[]\n",
        "\n",
        "  for i in preds:\n",
        "    for j in range(len(i)):\n",
        "      preds2.append(i.cpu().numpy()[j])\n",
        "  for i in targets:\n",
        "    for j in range(len(i)):\n",
        "      targets2.append(i.cpu().numpy()[j])\n",
        "  print(\"Cohens Kappa Score: %.3f\"% float(cohen_kappa_score(targets2,preds2)))\n",
        "  weighted_roc_auc,aoc_recallauc = roc_auc_score_multiclass(targets2, preds2)\n",
        "  print(\"Area Under Curve: %.3f\" % float(sum(weighted_roc_auc.values())/8))\n",
        "  print(\"AUC – Precision Recall: %.3f\" % float(sum(aoc_recallauc.values())/8))\n",
        "  lis = [targets2,preds2]\n",
        "  print(\"nominal metric: %.3f\" % krippendorff_alpha(lis, nominal_metric, missing_items=None))\n",
        "  print(\"F1-Score: %.3f\" %f1_score(targets2, preds2, average='macro'))\n"
      ],
      "metadata": {
        "id": "VjH1U9Yz2mHo"
      },
      "execution_count": 48,
      "outputs": []
    },
    {
      "cell_type": "code",
      "source": [
        "def roc_auc_score_multiclass(actual_class, pred_class, average = \"macro\"):\n",
        "\n",
        "  #creating a set of all the unique classes using the actual class list\n",
        "  unique_class = set(actual_class)\n",
        "  roc_auc_dict = {}\n",
        "  auc_dict={}\n",
        "  for per_class in unique_class:\n",
        "    #creating a list of all the classes except the current class \n",
        "    other_class = [x for x in unique_class if x != per_class]\n",
        "\n",
        "    #marking the current class as 1 and all other classes as 0\n",
        "    new_actual_class = [0 if x in other_class else 1 for x in actual_class]\n",
        "    new_pred_class = [0 if x in other_class else 1 for x in pred_class]\n",
        "\n",
        "    #using the sklearn metrics method to calculate the roc_auc_score\n",
        "    roc_auc = roc_auc_score(new_actual_class, new_pred_class, average = average)\n",
        "    roc_auc_dict[per_class] = roc_auc\n",
        "    pre,recall,_   = precision_recall_curve(new_actual_class, new_pred_class)\n",
        "    auc_dict[per_class] = auc(recall, pre)\n",
        "\n",
        "  return roc_auc_dict,auc_dict\n"
      ],
      "metadata": {
        "id": "EIaFOJPa2rVT"
      },
      "execution_count": 12,
      "outputs": []
    },
    {
      "cell_type": "code",
      "source": [
        "from __future__ import print_function\n",
        "try:\n",
        "    import numpy as np\n",
        "except ImportError:\n",
        "    np = None\n",
        "\n",
        "\n",
        "def nominal_metric(a, b):\n",
        "    return a != b\n",
        "\n",
        "\n",
        "def interval_metric(a, b):\n",
        "    return (a-b)**2\n",
        "\n",
        "\n",
        "def ratio_metric(a, b):\n",
        "    return ((a-b)/(a+b))**2\n",
        "\n",
        "\n",
        "def krippendorff_alpha(data, metric=interval_metric, force_vecmath=False, convert_items=float, missing_items=None):\n",
        "    '''\n",
        "    Calculate Krippendorff's alpha (inter-rater reliability):\n",
        "    \n",
        "    data is in the format\n",
        "    [\n",
        "        {unit1:value, unit2:value, ...},  # coder 1\n",
        "        {unit1:value, unit3:value, ...},   # coder 2\n",
        "        ...                            # more coders\n",
        "    ]\n",
        "    or \n",
        "    it is a sequence of (masked) sequences (list, numpy.array, numpy.ma.array, e.g.) with rows corresponding to coders and columns to items\n",
        "    \n",
        "    metric: function calculating the pairwise distance\n",
        "    force_vecmath: force vector math for custom metrics (numpy required)\n",
        "    convert_items: function for the type conversion of items (default: float)\n",
        "    missing_items: indicator for missing items (default: None)\n",
        "    '''\n",
        "    \n",
        "    # number of coders\n",
        "    m = len(data)\n",
        "    \n",
        "    # set of constants identifying missing values\n",
        "    if missing_items is None:\n",
        "        maskitems = []\n",
        "    else:\n",
        "        maskitems = list(missing_items)\n",
        "    if np is not None:\n",
        "        maskitems.append(np.ma.masked_singleton)\n",
        "    \n",
        "    # convert input data to a dict of items\n",
        "    units = {}\n",
        "    for d in data:\n",
        "        try:\n",
        "            # try if d behaves as a dict\n",
        "            diter = d.items()\n",
        "        except AttributeError:\n",
        "            # sequence assumed for d\n",
        "            diter = enumerate(d)\n",
        "            \n",
        "        for it, g in diter:\n",
        "            if g not in maskitems:\n",
        "                try:\n",
        "                    its = units[it]\n",
        "                except KeyError:\n",
        "                    its = []\n",
        "                    units[it] = its\n",
        "                its.append(convert_items(g))\n",
        "\n",
        "\n",
        "    units = dict((it, d) for it, d in units.items() if len(d) > 1)  # units with pairable values\n",
        "    n = sum(len(pv) for pv in units.values())  # number of pairable values\n",
        "    \n",
        "    if n == 0:\n",
        "        raise ValueError(\"No items to compare.\")\n",
        "    \n",
        "    np_metric = (np is not None) and ((metric in (interval_metric, nominal_metric, ratio_metric)) or force_vecmath)\n",
        "    \n",
        "    Do = 0.\n",
        "    for grades in units.values():\n",
        "        if np_metric:\n",
        "            gr = np.asarray(grades)\n",
        "            Du = sum(np.sum(metric(gr, gri)) for gri in gr)\n",
        "        else:\n",
        "            Du = sum(metric(gi, gj) for gi in grades for gj in grades)\n",
        "        Do += Du/float(len(grades)-1)\n",
        "    Do /= float(n)\n",
        "\n",
        "    if Do == 0:\n",
        "        return 1.\n",
        "\n",
        "    De = 0.\n",
        "    for g1 in units.values():\n",
        "        if np_metric:\n",
        "            d1 = np.asarray(g1)\n",
        "            for g2 in units.values():\n",
        "                De += sum(np.sum(metric(d1, gj)) for gj in g2)\n",
        "        else:\n",
        "            for g2 in units.values():\n",
        "                De += sum(metric(gi, gj) for gi in g1 for gj in g2)\n",
        "    De /= float(n*(n-1))\n",
        "\n",
        "    return 1.-Do/De if (Do and De) else 1.\n",
        "\n",
        "\n"
      ],
      "metadata": {
        "id": "aF0HX-oU2xJU"
      },
      "execution_count": 13,
      "outputs": []
    },
    {
      "cell_type": "code",
      "execution_count": 14,
      "metadata": {
        "id": "jcfFgmwDxxCa",
        "colab": {
          "base_uri": "https://localhost:8080/",
          "height": 321
        },
        "outputId": "22ff82ca-a5d0-4ff4-d6e2-b3c8cba7ef57"
      },
      "outputs": [
        {
          "output_type": "stream",
          "name": "stdout",
          "text": [
            "230120\n",
            "57531\n",
            "287651\n"
          ]
        },
        {
          "output_type": "display_data",
          "data": {
            "text/plain": [
              "<Figure size 432x288 with 1 Axes>"
            ],
            "image/png": "[encoded data removed]"
          },
          "metadata": {
            "needs_background": "light"
          }
        }
      ],
      "source": [
        "train_data_path = '/content/traindata/train_set/images/*'\n",
        "test_data_path = '/content/testdata/val_set/images/*'\n",
        "train_image_paths = []\n",
        "test_image_paths=[]\n",
        "for data_path in glob.glob(train_data_path):\n",
        "       train_image_paths.append(data_path)\n",
        "for data_path in glob.glob(test_data_path):\n",
        "       test_image_paths.append(data_path)\n",
        "\n",
        "random.shuffle(train_image_paths)\n",
        "image = cv2.imread(test_image_paths[0])\n",
        "plt.imshow(image)\n",
        "#Split the data into 80 and 20\n",
        "train_image_allPath = train_image_paths\n",
        "train_image_paths, valid_image_paths = train_image_paths[:int(0.8*len(train_image_paths))], train_image_paths[int(0.8*len(train_image_paths)):] \n",
        "print(len(train_image_paths))\n",
        "print(len(valid_image_paths))\n",
        "print(len(train_image_allPath))"
      ]
    },
    {
      "cell_type": "code",
      "execution_count": 37,
      "metadata": {
        "id": "1dmQBk9qzAW6"
      },
      "outputs": [],
      "source": [
        "train_dataset = ImageDataSet(train_image_paths,'/content/traindata/train_set/annotations/',transform=img_transforms['train'])\n",
        "valid_dataset = ImageDataSet(valid_image_paths,'/content/traindata/train_set/annotations/',transform=img_transforms['valid'])\n",
        "test_dataset = ImageDataSet(test_image_paths,'/content/testdata/val_set/annotations/',transform=img_transforms['test'])\n",
        "nSamples=countall(train_dataset)\n",
        "t=min(nSamples)\n",
        "normedWeights = [t/x for x in nSamples]\n",
        "normedWeights = torch.FloatTensor(normedWeights)\n",
        "normedWeights = normedWeights.to(torch.device(\"cuda\"))\n",
        "loaders_transfer={\n",
        "    'train':torch.utils.data.DataLoader(train_dataset,batch_size=32,num_workers=4,shuffle=True),\n",
        "    'valid':torch.utils.data.DataLoader(valid_dataset,batch_size=32,num_workers=4,shuffle=True),\n",
        "     'test': torch.utils.data.DataLoader(test_dataset,batch_size=32,shuffle=True,num_workers=4)\n",
        "}\n",
        "\n"
      ]
    },
    {
      "cell_type": "code",
      "execution_count": null,
      "metadata": {
        "id": "CQi4WZkL6Tda"
      },
      "outputs": [],
      "source": [
        "#creating Model and training Mdel\n",
        "use_cuda = torch.cuda.is_available()\n",
        "model_transfer = MultilabelClassifier(8,1,1)\n",
        "\n",
        "if use_cuda:\n",
        "    model_transfer = model_transfer.cuda()\n",
        "\n",
        "# selecting loss function\n",
        "criterion_transfer = nn.CrossEntropyLoss(normedWeights)\n",
        "loss_fn = nn.L1Loss()\n",
        "#using Adam classifier\n",
        "optimizer_transfer = optim.SGD(model_transfer.parameters(), lr=0.001,momentum=0.9)\n",
        "exp_lr_scheduler = lr_scheduler.StepLR(optimizer_transfer, step_size=4, gamma=0.1)\n",
        "n_epochs= 4\n",
        "model_transfer = train(n_epochs, loaders_transfer, model_transfer, optimizer_transfer,exp_lr_scheduler,loss_fn, criterion_transfer, use_cuda, '/content/drive/MyDrive/model4.pt')\n",
        "tplot(taccuracy,vaccuracy,\"Validation Accurcay and Training Accuracy Graph\")\n",
        "tplot(trainingloss,validationloss,\"Validation Accurcay and Training Accuracy Graph\")\n"
      ]
    },
    {
      "cell_type": "code",
      "execution_count": 40,
      "metadata": {
        "id": "e-0aNJ4BIwBR"
      },
      "outputs": [],
      "source": [
        "checkpoint = torch.load('/content/drive/MyDrive/model2.pt', map_location='cpu')\n",
        "model_transfer.load_state_dict(checkpoint)\n",
        "model_transfer = model_transfer.cuda()\n"
      ]
    },
    {
      "cell_type": "code",
      "execution_count": 41,
      "metadata": {
        "id": "Yf2vtczuIqL6",
        "colab": {
          "base_uri": "https://localhost:8080/",
          "height": 489
        },
        "outputId": "2014c780-b618-4e10-d339-25dc1452480c"
      },
      "outputs": [
        {
          "output_type": "stream",
          "name": "stderr",
          "text": [
            "Clipping input data to the valid range for imshow with RGB data ([0..1] for floats or [0..255] for integers).\n",
            "Clipping input data to the valid range for imshow with RGB data ([0..1] for floats or [0..255] for integers).\n"
          ]
        },
        {
          "output_type": "stream",
          "name": "stdout",
          "text": [
            "tensor([0], device='cuda:0')\n",
            "tensor(0, device='cuda:0')\n",
            "tensor([6], device='cuda:0')\n",
            "tensor(6, device='cuda:0')\n"
          ]
        },
        {
          "output_type": "stream",
          "name": "stderr",
          "text": [
            "Clipping input data to the valid range for imshow with RGB data ([0..1] for floats or [0..255] for integers).\n",
            "Clipping input data to the valid range for imshow with RGB data ([0..1] for floats or [0..255] for integers).\n"
          ]
        },
        {
          "output_type": "stream",
          "name": "stdout",
          "text": [
            "tensor([2], device='cuda:0')\n",
            "tensor(3, device='cuda:0')\n",
            "tensor([2], device='cuda:0')\n",
            "tensor(4, device='cuda:0')\n"
          ]
        },
        {
          "output_type": "display_data",
          "data": {
            "text/plain": [
              "<Figure size 432x288 with 4 Axes>"
            ],
            "image/png": "[encoded data removed]"
          },
          "metadata": {
            "needs_background": "light"
          }
        }
      ],
      "source": [
        "#testing of model\n",
        "preds, targets, apreds, atargets, vpreds, vtargets = test(loaders_transfer, model_transfer,loss_fn, criterion_transfer, use_cuda)"
      ]
    },
    {
      "cell_type": "code",
      "execution_count": 42,
      "metadata": {
        "colab": {
          "base_uri": "https://localhost:8080/"
        },
        "id": "X68muF4QNN3G",
        "outputId": "87bbc6d7-2bb5-482d-894c-b08762753539"
      },
      "outputs": [
        {
          "output_type": "stream",
          "name": "stdout",
          "text": [
            "              precision    recall  f1-score   support\n",
            "\n",
            "           0       0.47      0.58      0.52       500\n",
            "           1       0.66      0.80      0.72       500\n",
            "           2       0.62      0.60      0.61       500\n",
            "           3       0.59      0.59      0.59       500\n",
            "           4       0.70      0.58      0.63       500\n",
            "           5       0.65      0.54      0.59       500\n",
            "           6       0.56      0.62      0.59       500\n",
            "           7       0.60      0.49      0.54       499\n",
            "\n",
            "    accuracy                           0.60      3999\n",
            "   macro avg       0.61      0.60      0.60      3999\n",
            "weighted avg       0.61      0.60      0.60      3999\n",
            "\n"
          ]
        },
        {
          "output_type": "execute_result",
          "data": {
            "text/plain": [
              "0.6009002250562641"
            ]
          },
          "metadata": {},
          "execution_count": 42
        }
      ],
      "source": [
        "#classification Report\n",
        "calculate(preds,targets)"
      ]
    },
    {
      "cell_type": "code",
      "source": [
        "print('Evaluation Measure for Valence')\n",
        "vr=[vl,vcor,lvcon]=calculateRMSE(vpreds,vtargets)\n",
        "print('Evaluation Measure for Arousal')\n",
        "ar=[al,acor,acon]=calculateRMSE(apreds,atargets)\n"
      ],
      "metadata": {
        "colab": {
          "base_uri": "https://localhost:8080/"
        },
        "id": "Ihiy9sykFxJP",
        "outputId": "6a0e69c7-41c4-4050-eee2-538baee06378"
      },
      "execution_count": 44,
      "outputs": [
        {
          "output_type": "stream",
          "name": "stdout",
          "text": [
            "Evaluation Measure for Valence\n",
            "RMSE: 0.430\n",
            "SAGR: 0.730\n",
            "Correlation: [1.         0.59543329]\n",
            "concordance_correlation_coefficient: 0.549\n",
            "Evaluation Measure for Arousal\n",
            "RMSE: 0.363\n",
            "SAGR: 0.782\n",
            "Correlation: [1.         0.53465726]\n",
            "concordance_correlation_coefficient: 0.458\n"
          ]
        }
      ]
    },
    {
      "cell_type": "code",
      "source": [
        "calc(preds,targets)"
      ],
      "metadata": {
        "colab": {
          "base_uri": "https://localhost:8080/"
        },
        "id": "aNqS-jlcGiLn",
        "outputId": "2fbcd616-8688-411e-9127-45aa8570f1d9"
      },
      "execution_count": 49,
      "outputs": [
        {
          "output_type": "stream",
          "name": "stdout",
          "text": [
            "Cohens Kappa Score: 0.544\n",
            "Area Under Curve: 0.772\n",
            "AUC – Precision Recall: 0.629\n",
            "nominal metric: 0.544\n",
            "F1-Score: 0.600\n"
          ]
        }
      ]
    }
  ],
  "metadata": {
    "accelerator": "GPU",
    "colab": {
      "collapsed_sections": [],
      "machine_shape": "hm",
      "name": "MultiClass.ipynb",
      "provenance": []
    },
    "kernelspec": {
      "display_name": "Python 3",
      "name": "python3"
    },
    "language_info": {
      "name": "python"
    }
  },
  "nbformat": 4,
  "nbformat_minor": 0
}